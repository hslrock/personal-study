{
 "cells": [
  {
   "cell_type": "markdown",
   "metadata": {},
   "source": [
    "# Single Responsiblity Principle (SRP)\n",
    "\n",
    "## 클래스는 한개의 \"책임\"을 가져야한다\n",
    "- 변경하는 이유는 단 **하나**\n",
    "- 여기서 말하는 **책임**은 '기능'\n",
    "- 여러개면 내부 함수끼리 강한 결합이 생기고, 이는 객체지향의 기본 설계를 위반하는 행위\n",
    "- 유지보수가 비효율적이게 됨\n",
    "\n",
    "예) '가' 라는 클래스가 A라는 메소드가 있고, A는 본인의 결과로 B를 호출하고 B는 C를 호출하게 된다고 가정 하면, A를 바꾸면 B와 C를 다 바꿔야됨.\n",
    "\n",
    "**SRP를 안 지키는 예시**"
   ]
  },
  {
   "cell_type": "code",
   "execution_count": 2,
   "metadata": {},
   "outputs": [],
   "source": [
    "class Report:\n",
    "    def generate_report(self):\n",
    "        # A 메소드: 보고서 생성\n",
    "        data = self.get_data()  # B 메소드 호출\n",
    "        formatted_data = self.format_data(data)  # C 메소드 호출\n",
    "        self.save_report(formatted_data)  # D 메소드 호출\n",
    "\n",
    "    def get_data(self):\n",
    "        # 데이터 가져오기\n",
    "        return {\"name\": \"Sample Report\", \"value\": 100}\n",
    "\n",
    "    def format_data(self, data):\n",
    "        # 데이터를 형식화하는 작업 (SRP 위반)\n",
    "        return f\"Report: {data['name']}, Value: {data['value']}\"\n",
    "\n",
    "    def save_report(self, formatted_data):\n",
    "        # 보고서를 저장하는 작업 (SRP 위반)\n",
    "        print(f\"Saving Report: {formatted_data}\")"
   ]
  },
  {
   "cell_type": "markdown",
   "metadata": {},
   "source": [
    "- 보고서를 생성하는 기능 외 여러 기능이 혼합되어있음\n",
    "- generate_report 를 변경할경우 다른 코드도 변해야될수도 있음"
   ]
  },
  {
   "cell_type": "markdown",
   "metadata": {},
   "source": [
    "**SRP를 준수한 예시**"
   ]
  },
  {
   "cell_type": "code",
   "execution_count": 3,
   "metadata": {},
   "outputs": [],
   "source": [
    "class Report:\n",
    "    def __init__(self, data_service, formatter, repository):\n",
    "        self.data_service = data_service\n",
    "        self.formatter = formatter\n",
    "        self.repository = repository\n",
    "\n",
    "    def generate_report(self):\n",
    "        data = self.data_service.get_data()  # 데이터 가져오기 책임을 다른 클래스가 담당\n",
    "        formatted_data = self.formatter.format_data(\n",
    "            data\n",
    "        )  # 데이터 형식화 책임을 다른 클래스가 담당\n",
    "        self.repository.save_report(formatted_data)  # 저장 책임을 다른 클래스가 담당\n",
    "\n",
    "\n",
    "class DataService:\n",
    "    def get_data(self):\n",
    "        return {\"name\": \"Sample Report\", \"value\": 100}\n",
    "\n",
    "\n",
    "class Formatter:\n",
    "    def format_data(self, data):\n",
    "        return f\"Report: {data['name']}, Value: {data['value']}\"\n",
    "\n",
    "\n",
    "class ReportRepository:\n",
    "    def save_report(self, formatted_data):\n",
    "        print(f\"Saving Report: {formatted_data}\")"
   ]
  },
  {
   "cell_type": "markdown",
   "metadata": {},
   "source": []
  }
 ],
 "metadata": {
  "kernelspec": {
   "display_name": "personal-study-AYLwNhuB-py3.11",
   "language": "python",
   "name": "python3"
  },
  "language_info": {
   "codemirror_mode": {
    "name": "ipython",
    "version": 3
   },
   "file_extension": ".py",
   "mimetype": "text/x-python",
   "name": "python",
   "nbconvert_exporter": "python",
   "pygments_lexer": "ipython3",
   "version": "3.11.9"
  }
 },
 "nbformat": 4,
 "nbformat_minor": 2
}
