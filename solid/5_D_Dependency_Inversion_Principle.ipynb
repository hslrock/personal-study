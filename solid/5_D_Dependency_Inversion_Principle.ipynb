{
 "cells": [
  {
   "cell_type": "markdown",
   "metadata": {},
   "source": [
    "# DIP (Dependency Inversion) 의존 역전 원칙\n",
    "## 의존 관계를 맺을 때, 변하기 쉬운 것 (구체적인 것) 보다는 변하기 어려운 것 (추상적인 것)에 의존해야 함 \n",
    "\n",
    "-  구체화된 클래스보단 추상 클래스나 인터페이스에 의존\n",
    "\n"
   ]
  },
  {
   "cell_type": "code",
   "execution_count": 1,
   "metadata": {},
   "outputs": [
    {
     "name": "stdout",
     "output_type": "stream",
     "text": [
      "일을 하고 있습니다.\n",
      "식사를 하고 있습니다.\n",
      "로봇이 일을 하고 있습니다.\n"
     ]
    }
   ],
   "source": [
    "class WorkerInterface:\n",
    "    def work(self):\n",
    "        pass\n",
    "\n",
    "    def eat(self):\n",
    "        pass\n",
    "\n",
    "\n",
    "# 작업을 수행하는 근로자 클래스\n",
    "class Worker(WorkerInterface):\n",
    "    def work(self):\n",
    "        print(\"일을 하고 있습니다.\")\n",
    "\n",
    "    def eat(self):\n",
    "        print(\"식사를 하고 있습니다.\")\n",
    "\n",
    "\n",
    "# 로봇 클래스도 일을 하지만, 먹지는 않습니다\n",
    "class Robot(WorkerInterface):\n",
    "    def work(self):\n",
    "        print(\"로봇이 일을 하고 있습니다.\")\n",
    "\n",
    "    # 로봇은 먹지 않으므로 이 메서드는 불필요\n",
    "    def eat(self):\n",
    "        pass\n",
    "\n",
    "\n",
    "# 클라이언트 코드\n",
    "def manage_worker(worker: WorkerInterface):\n",
    "    worker.work()\n",
    "    worker.eat()\n",
    "\n",
    "\n",
    "worker = Worker()\n",
    "manage_worker(worker)  # 출력: 일을 하고 있습니다. / 식사를 하고 있습니다.\n",
    "\n",
    "robot = Robot()\n",
    "manage_worker(robot)  # 출력: 로봇이 일을 하고 있습니다.\n",
    "# 로봇은 eat 메서드가 필요 없지만 빈 구현으로 유지해야 함"
   ]
  },
  {
   "cell_type": "markdown",
   "metadata": {},
   "source": [
    "불필요한 메서드 구현: Robot 클래스는 eat 메서드를 필요로 하지 않지만, WorkerInterface 인터페이스를 구현해야 하므로 빈 메서드를 만듬\n",
    "클라이언트 의존성 증가: 클라이언트는 eat 메서드를 호출할 수 있는데, 로봇 클라이언트는 필요없다\n",
    "\n",
    "  \n",
    "### 준수하였을때"
   ]
  },
  {
   "cell_type": "code",
   "execution_count": 2,
   "metadata": {},
   "outputs": [
    {
     "name": "stdout",
     "output_type": "stream",
     "text": [
      "일을 하고 있습니다.\n",
      "로봇이 일을 하고 있습니다.\n"
     ]
    }
   ],
   "source": [
    "from abc import ABC, abstractmethod\n",
    "\n",
    "\n",
    "# 작업 관련 인터페이스\n",
    "class Workable(ABC):\n",
    "    @abstractmethod\n",
    "    def work(self):\n",
    "        pass\n",
    "\n",
    "\n",
    "# 식사 관련 인터페이스\n",
    "class Eatable(ABC):\n",
    "    @abstractmethod\n",
    "    def eat(self):\n",
    "        pass\n",
    "\n",
    "\n",
    "# 작업을 수행하는 근로자 클래스\n",
    "class Worker(Workable, Eatable):\n",
    "    def work(self):\n",
    "        print(\"일을 하고 있습니다.\")\n",
    "\n",
    "    def eat(self):\n",
    "        print(\"식사를 하고 있습니다.\")\n",
    "\n",
    "\n",
    "# 로봇 클래스는 일을 하지만 식사를 하지 않음\n",
    "class Robot(Workable):\n",
    "    def work(self):\n",
    "        print(\"로봇이 일을 하고 있습니다.\")\n",
    "\n",
    "\n",
    "# 클라이언트 코드\n",
    "def manage_worker(worker: Workable):\n",
    "    worker.work()\n",
    "\n",
    "\n",
    "# 근로자는 일도 하고 식사도 함\n",
    "worker = Worker()\n",
    "manage_worker(worker)  # 출력: 일을 하고 있습니다.\n",
    "\n",
    "# 로봇은 일만 함\n",
    "robot = Robot()\n",
    "manage_worker(robot)  # 출력: 로봇이 일을 하고 있습니다."
   ]
  },
  {
   "cell_type": "code",
   "execution_count": null,
   "metadata": {},
   "outputs": [],
   "source": []
  }
 ],
 "metadata": {
  "kernelspec": {
   "display_name": "personal-study-AYLwNhuB-py3.11",
   "language": "python",
   "name": "python3"
  },
  "language_info": {
   "codemirror_mode": {
    "name": "ipython",
    "version": 3
   },
   "file_extension": ".py",
   "mimetype": "text/x-python",
   "name": "python",
   "nbconvert_exporter": "python",
   "pygments_lexer": "ipython3",
   "version": "3.11.9"
  }
 },
 "nbformat": 4,
 "nbformat_minor": 2
}
