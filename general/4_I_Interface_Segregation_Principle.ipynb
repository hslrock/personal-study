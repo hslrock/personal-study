{
 "cells": [
  {
   "cell_type": "markdown",
   "metadata": {},
   "source": [
    "# ISP : Interface Segregation Principle\n",
    "\n",
    "## 범용 인터페이스보다 전문화된 인터페이스를 사용하라.\n",
    "\n",
    "- 클라이언트는 필요한 메서드만 가져야한다\n",
    "- 큰 인터페이스보다 작고 구체적인 여러 개의 인터페이스를 분리한다\n",
    "\n",
    "\n",
    "\n"
   ]
  },
  {
   "cell_type": "code",
   "execution_count": 1,
   "metadata": {},
   "outputs": [
    {
     "name": "stdout",
     "output_type": "stream",
     "text": [
      "일을 하고 있습니다.\n",
      "식사를 하고 있습니다.\n",
      "로봇이 일을 하고 있습니다.\n"
     ]
    }
   ],
   "source": [
    "class WorkerInterface:\n",
    "    def work(self):\n",
    "        pass\n",
    "\n",
    "    def eat(self):\n",
    "        pass\n",
    "\n",
    "\n",
    "# 작업을 수행하는 근로자 클래스\n",
    "class Worker(WorkerInterface):\n",
    "    def work(self):\n",
    "        print(\"일을 하고 있습니다.\")\n",
    "\n",
    "    def eat(self):\n",
    "        print(\"식사를 하고 있습니다.\")\n",
    "\n",
    "\n",
    "# 로봇 클래스도 일을 하지만, 먹지는 않습니다\n",
    "class Robot(WorkerInterface):\n",
    "    def work(self):\n",
    "        print(\"로봇이 일을 하고 있습니다.\")\n",
    "\n",
    "    # 로봇은 먹지 않으므로 이 메서드는 불필요\n",
    "    def eat(self):\n",
    "        pass\n",
    "\n",
    "\n",
    "# 클라이언트 코드\n",
    "def manage_worker(worker: WorkerInterface):\n",
    "    worker.work()\n",
    "    worker.eat()\n",
    "\n",
    "\n",
    "worker = Worker()\n",
    "manage_worker(worker)  # 출력: 일을 하고 있습니다. / 식사를 하고 있습니다.\n",
    "\n",
    "robot = Robot()\n",
    "manage_worker(robot)  # 출력: 로봇이 일을 하고 있습니다.\n",
    "# 로봇은 eat 메서드가 필요 없지만 빈 구현으로 유지해야 함"
   ]
  },
  {
   "cell_type": "markdown",
   "metadata": {},
   "source": [
    "불필요한 메서드 구현: Robot 클래스는 eat 메서드를 필요로 하지 않지만, WorkerInterface 인터페이스를 구현해야 하므로 빈 메서드를 만듬\n",
    "클라이언트 의존성 증가: 클라이언트는 eat 메서드를 호출할 수 있는데, 로봇 클라이언트는 필요없다\n",
    "\n",
    "  \n",
    "### 준수하였을때"
   ]
  },
  {
   "cell_type": "markdown",
   "metadata": {},
   "source": [
    "Square와 Rectangle이 서로 다른 성질을 가진 도형이므로, 상속 관계보다는 각기 다른 클래스로 설계하는 것이 더 적합합니다."
   ]
  },
  {
   "cell_type": "code",
   "execution_count": 7,
   "metadata": {},
   "outputs": [
    {
     "name": "stdout",
     "output_type": "stream",
     "text": [
      "도형의 넓이: 50\n",
      "도형의 넓이: 25\n"
     ]
    }
   ],
   "source": [
    "class Shape(ABC):\n",
    "    @abstractmethod\n",
    "    def area(self):\n",
    "        pass\n",
    "\n",
    "\n",
    "class Rectangle(Shape):\n",
    "    def __init__(self, width, height):\n",
    "        self.width = width\n",
    "        self.height = height\n",
    "\n",
    "    def set_width(self, width):\n",
    "        self.width = width\n",
    "\n",
    "    def set_height(self, height):\n",
    "        self.height = height\n",
    "\n",
    "    def area(self):\n",
    "        return self.width * self.height\n",
    "\n",
    "\n",
    "class Square(Shape):\n",
    "    def __init__(self, side):\n",
    "        self.side = side\n",
    "\n",
    "    def set_side(self, side):\n",
    "        self.side = side\n",
    "\n",
    "    def area(self):\n",
    "        return self.side * self.side\n",
    "\n",
    "\n",
    "# 사용 예\n",
    "def print_area(shape):\n",
    "    print(f\"도형의 넓이: {shape.area()}\")\n",
    "\n",
    "\n",
    "rect = Rectangle(5, 10)\n",
    "print_area(rect)  # 출력: 도형의 넓이: 50\n",
    "\n",
    "square = Square(5)\n",
    "print_area(square)  # 출력: 도형의 넓이: 25"
   ]
  },
  {
   "cell_type": "code",
   "execution_count": null,
   "metadata": {},
   "outputs": [],
   "source": []
  }
 ],
 "metadata": {
  "kernelspec": {
   "display_name": "personal-study-AYLwNhuB-py3.11",
   "language": "python",
   "name": "python3"
  },
  "language_info": {
   "codemirror_mode": {
    "name": "ipython",
    "version": 3
   },
   "file_extension": ".py",
   "mimetype": "text/x-python",
   "name": "python",
   "nbconvert_exporter": "python",
   "pygments_lexer": "ipython3",
   "version": "3.11.9"
  }
 },
 "nbformat": 4,
 "nbformat_minor": 2
}
